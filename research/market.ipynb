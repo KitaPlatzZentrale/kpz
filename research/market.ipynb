{
 "cells": [
  {
   "attachments": {},
   "cell_type": "markdown",
   "metadata": {},
   "source": [
    "# Research on Market Size, Market Access and Market Potential (Berlin)\n",
    "\n",
    "This notebook is reviewing the market size of Kindertageseinrichtungen (KiTa) in the state region Berlin.\n",
    "\n",
    "Data provided by the [Statistisches Amt Berlin-Brandenburg](https://www.statistik-berlin-brandenburg.de/) (Statistical Office Berlin-Brandenburg) for the year 2022 will be used to investigate the market size of KiTas in Berlin.\n",
    "\n",
    "## Data Preparation"
   ]
  },
  {
   "cell_type": "code",
   "execution_count": 2,
   "metadata": {},
   "outputs": [],
   "source": [
    "import pandas as pd\n",
    "\n",
    "# Load Hosted Kids by District Data\n",
    "hosted_kids_per_district = pd.read_csv(\"./data/berlin/hosted-kids-by-district/index.csv\", index_col=\"district\")\n",
    "kita_slots_per_district = pd.read_csv(\"./data/berlin/kita-slots-by-district/index.csv\", index_col=\"district\")\n",
    "kitas_by_district = pd.read_csv(\"./data/berlin/kitas-by-district/index.csv\", index_col=\"district\")"
   ]
  },
  {
   "attachments": {},
   "cell_type": "markdown",
   "metadata": {},
   "source": []
  }
 ],
 "metadata": {
  "kernelspec": {
   "display_name": "kpz-research",
   "language": "python",
   "name": "python3"
  },
  "language_info": {
   "codemirror_mode": {
    "name": "ipython",
    "version": 3
   },
   "file_extension": ".py",
   "mimetype": "text/x-python",
   "name": "python",
   "nbconvert_exporter": "python",
   "pygments_lexer": "ipython3",
   "version": "3.11.2"
  },
  "orig_nbformat": 4,
  "vscode": {
   "interpreter": {
    "hash": "a3ff88b4afa2d7b0ddbfb067e821fb666276e61aea1e6293b4c73b4cc4726655"
   }
  }
 },
 "nbformat": 4,
 "nbformat_minor": 2
}
